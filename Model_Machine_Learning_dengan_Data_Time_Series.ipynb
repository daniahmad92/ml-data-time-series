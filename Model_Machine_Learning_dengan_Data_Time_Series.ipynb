{
  "nbformat": 4,
  "nbformat_minor": 0,
  "metadata": {
    "colab": {
      "name": "Model Machine Learning dengan Data Time Series.ipynb",
      "provenance": [],
      "authorship_tag": "ABX9TyP6V4ZJIYnTtwXyoyrihZGc",
      "include_colab_link": true
    },
    "kernelspec": {
      "name": "python3",
      "display_name": "Python 3"
    },
    "language_info": {
      "name": "python"
    }
  },
  "cells": [
    {
      "cell_type": "markdown",
      "metadata": {
        "id": "view-in-github",
        "colab_type": "text"
      },
      "source": [
        "<a href=\"https://colab.research.google.com/github/daniahmad92/ml-data-time-series/blob/main/Model_Machine_Learning_dengan_Data_Time_Series.ipynb\" target=\"_parent\"><img src=\"https://colab.research.google.com/assets/colab-badge.svg\" alt=\"Open In Colab\"/></a>"
      ]
    },
    {
      "cell_type": "markdown",
      "source": [
        "**Data Diri**\n",
        "\n",
        "Nama : Dadan Ahmad Dani\n",
        "\n",
        "Email : email@dadanahmaddani.com\n",
        "\n",
        "**Submission**\n",
        "\n",
        "Belajar Pengembangan Machine Learning\n",
        "\n",
        "Proyek Kedua : Membuat Model Machine Learning dengan Data Time Series\n",
        "\n",
        "memprediksi penjualan saham sepeda berdasarkan rentang waktu."
      ],
      "metadata": {
        "id": "jQCUuYgestqO"
      }
    },
    {
      "cell_type": "markdown",
      "source": [
        "**Dataset**"
      ],
      "metadata": {
        "id": "sVjb6oLyq-Q-"
      }
    },
    {
      "cell_type": "code",
      "execution_count": 44,
      "metadata": {
        "colab": {
          "base_uri": "https://localhost:8080/",
          "height": 237
        },
        "id": "zHnYAfGaeUkF",
        "outputId": "74a5a229-5f8b-4a9a-e259-1f95ce75ffeb"
      },
      "outputs": [
        {
          "output_type": "execute_result",
          "data": {
            "text/plain": [
              "                     cnt   t1   t2    hum  wind_speed  weather_code  \\\n",
              "timestamp                                                             \n",
              "2015-01-04 00:00:00  182  3.0  2.0   93.0         6.0           3.0   \n",
              "2015-01-04 01:00:00  138  3.0  2.5   93.0         5.0           1.0   \n",
              "2015-01-04 02:00:00  134  2.5  2.5   96.5         0.0           1.0   \n",
              "2015-01-04 03:00:00   72  2.0  2.0  100.0         0.0           1.0   \n",
              "2015-01-04 04:00:00   47  2.0  0.0   93.0         6.5           1.0   \n",
              "\n",
              "                     is_holiday  is_weekend  season  \n",
              "timestamp                                            \n",
              "2015-01-04 00:00:00         0.0         1.0     3.0  \n",
              "2015-01-04 01:00:00         0.0         1.0     3.0  \n",
              "2015-01-04 02:00:00         0.0         1.0     3.0  \n",
              "2015-01-04 03:00:00         0.0         1.0     3.0  \n",
              "2015-01-04 04:00:00         0.0         1.0     3.0  "
            ],
            "text/html": [
              "\n",
              "  <div id=\"df-ce431b5b-d0d2-45ee-aed3-bd445364548f\">\n",
              "    <div class=\"colab-df-container\">\n",
              "      <div>\n",
              "<style scoped>\n",
              "    .dataframe tbody tr th:only-of-type {\n",
              "        vertical-align: middle;\n",
              "    }\n",
              "\n",
              "    .dataframe tbody tr th {\n",
              "        vertical-align: top;\n",
              "    }\n",
              "\n",
              "    .dataframe thead th {\n",
              "        text-align: right;\n",
              "    }\n",
              "</style>\n",
              "<table border=\"1\" class=\"dataframe\">\n",
              "  <thead>\n",
              "    <tr style=\"text-align: right;\">\n",
              "      <th></th>\n",
              "      <th>cnt</th>\n",
              "      <th>t1</th>\n",
              "      <th>t2</th>\n",
              "      <th>hum</th>\n",
              "      <th>wind_speed</th>\n",
              "      <th>weather_code</th>\n",
              "      <th>is_holiday</th>\n",
              "      <th>is_weekend</th>\n",
              "      <th>season</th>\n",
              "    </tr>\n",
              "    <tr>\n",
              "      <th>timestamp</th>\n",
              "      <th></th>\n",
              "      <th></th>\n",
              "      <th></th>\n",
              "      <th></th>\n",
              "      <th></th>\n",
              "      <th></th>\n",
              "      <th></th>\n",
              "      <th></th>\n",
              "      <th></th>\n",
              "    </tr>\n",
              "  </thead>\n",
              "  <tbody>\n",
              "    <tr>\n",
              "      <th>2015-01-04 00:00:00</th>\n",
              "      <td>182</td>\n",
              "      <td>3.0</td>\n",
              "      <td>2.0</td>\n",
              "      <td>93.0</td>\n",
              "      <td>6.0</td>\n",
              "      <td>3.0</td>\n",
              "      <td>0.0</td>\n",
              "      <td>1.0</td>\n",
              "      <td>3.0</td>\n",
              "    </tr>\n",
              "    <tr>\n",
              "      <th>2015-01-04 01:00:00</th>\n",
              "      <td>138</td>\n",
              "      <td>3.0</td>\n",
              "      <td>2.5</td>\n",
              "      <td>93.0</td>\n",
              "      <td>5.0</td>\n",
              "      <td>1.0</td>\n",
              "      <td>0.0</td>\n",
              "      <td>1.0</td>\n",
              "      <td>3.0</td>\n",
              "    </tr>\n",
              "    <tr>\n",
              "      <th>2015-01-04 02:00:00</th>\n",
              "      <td>134</td>\n",
              "      <td>2.5</td>\n",
              "      <td>2.5</td>\n",
              "      <td>96.5</td>\n",
              "      <td>0.0</td>\n",
              "      <td>1.0</td>\n",
              "      <td>0.0</td>\n",
              "      <td>1.0</td>\n",
              "      <td>3.0</td>\n",
              "    </tr>\n",
              "    <tr>\n",
              "      <th>2015-01-04 03:00:00</th>\n",
              "      <td>72</td>\n",
              "      <td>2.0</td>\n",
              "      <td>2.0</td>\n",
              "      <td>100.0</td>\n",
              "      <td>0.0</td>\n",
              "      <td>1.0</td>\n",
              "      <td>0.0</td>\n",
              "      <td>1.0</td>\n",
              "      <td>3.0</td>\n",
              "    </tr>\n",
              "    <tr>\n",
              "      <th>2015-01-04 04:00:00</th>\n",
              "      <td>47</td>\n",
              "      <td>2.0</td>\n",
              "      <td>0.0</td>\n",
              "      <td>93.0</td>\n",
              "      <td>6.5</td>\n",
              "      <td>1.0</td>\n",
              "      <td>0.0</td>\n",
              "      <td>1.0</td>\n",
              "      <td>3.0</td>\n",
              "    </tr>\n",
              "  </tbody>\n",
              "</table>\n",
              "</div>\n",
              "      <button class=\"colab-df-convert\" onclick=\"convertToInteractive('df-ce431b5b-d0d2-45ee-aed3-bd445364548f')\"\n",
              "              title=\"Convert this dataframe to an interactive table.\"\n",
              "              style=\"display:none;\">\n",
              "        \n",
              "  <svg xmlns=\"http://www.w3.org/2000/svg\" height=\"24px\"viewBox=\"0 0 24 24\"\n",
              "       width=\"24px\">\n",
              "    <path d=\"M0 0h24v24H0V0z\" fill=\"none\"/>\n",
              "    <path d=\"M18.56 5.44l.94 2.06.94-2.06 2.06-.94-2.06-.94-.94-2.06-.94 2.06-2.06.94zm-11 1L8.5 8.5l.94-2.06 2.06-.94-2.06-.94L8.5 2.5l-.94 2.06-2.06.94zm10 10l.94 2.06.94-2.06 2.06-.94-2.06-.94-.94-2.06-.94 2.06-2.06.94z\"/><path d=\"M17.41 7.96l-1.37-1.37c-.4-.4-.92-.59-1.43-.59-.52 0-1.04.2-1.43.59L10.3 9.45l-7.72 7.72c-.78.78-.78 2.05 0 2.83L4 21.41c.39.39.9.59 1.41.59.51 0 1.02-.2 1.41-.59l7.78-7.78 2.81-2.81c.8-.78.8-2.07 0-2.86zM5.41 20L4 18.59l7.72-7.72 1.47 1.35L5.41 20z\"/>\n",
              "  </svg>\n",
              "      </button>\n",
              "      \n",
              "  <style>\n",
              "    .colab-df-container {\n",
              "      display:flex;\n",
              "      flex-wrap:wrap;\n",
              "      gap: 12px;\n",
              "    }\n",
              "\n",
              "    .colab-df-convert {\n",
              "      background-color: #E8F0FE;\n",
              "      border: none;\n",
              "      border-radius: 50%;\n",
              "      cursor: pointer;\n",
              "      display: none;\n",
              "      fill: #1967D2;\n",
              "      height: 32px;\n",
              "      padding: 0 0 0 0;\n",
              "      width: 32px;\n",
              "    }\n",
              "\n",
              "    .colab-df-convert:hover {\n",
              "      background-color: #E2EBFA;\n",
              "      box-shadow: 0px 1px 2px rgba(60, 64, 67, 0.3), 0px 1px 3px 1px rgba(60, 64, 67, 0.15);\n",
              "      fill: #174EA6;\n",
              "    }\n",
              "\n",
              "    [theme=dark] .colab-df-convert {\n",
              "      background-color: #3B4455;\n",
              "      fill: #D2E3FC;\n",
              "    }\n",
              "\n",
              "    [theme=dark] .colab-df-convert:hover {\n",
              "      background-color: #434B5C;\n",
              "      box-shadow: 0px 1px 3px 1px rgba(0, 0, 0, 0.15);\n",
              "      filter: drop-shadow(0px 1px 2px rgba(0, 0, 0, 0.3));\n",
              "      fill: #FFFFFF;\n",
              "    }\n",
              "  </style>\n",
              "\n",
              "      <script>\n",
              "        const buttonEl =\n",
              "          document.querySelector('#df-ce431b5b-d0d2-45ee-aed3-bd445364548f button.colab-df-convert');\n",
              "        buttonEl.style.display =\n",
              "          google.colab.kernel.accessAllowed ? 'block' : 'none';\n",
              "\n",
              "        async function convertToInteractive(key) {\n",
              "          const element = document.querySelector('#df-ce431b5b-d0d2-45ee-aed3-bd445364548f');\n",
              "          const dataTable =\n",
              "            await google.colab.kernel.invokeFunction('convertToInteractive',\n",
              "                                                     [key], {});\n",
              "          if (!dataTable) return;\n",
              "\n",
              "          const docLinkHtml = 'Like what you see? Visit the ' +\n",
              "            '<a target=\"_blank\" href=https://colab.research.google.com/notebooks/data_table.ipynb>data table notebook</a>'\n",
              "            + ' to learn more about interactive tables.';\n",
              "          element.innerHTML = '';\n",
              "          dataTable['output_type'] = 'display_data';\n",
              "          await google.colab.output.renderOutput(dataTable, element);\n",
              "          const docLink = document.createElement('div');\n",
              "          docLink.innerHTML = docLinkHtml;\n",
              "          element.appendChild(docLink);\n",
              "        }\n",
              "      </script>\n",
              "    </div>\n",
              "  </div>\n",
              "  "
            ]
          },
          "metadata": {},
          "execution_count": 44
        }
      ],
      "source": [
        "import pandas as pd\n",
        "data = pd.read_csv('london_merged.csv', parse_dates=['timestamp'], index_col='timestamp')\n",
        "data.head()"
      ]
    },
    {
      "cell_type": "code",
      "source": [
        "data.isnull().sum()"
      ],
      "metadata": {
        "colab": {
          "base_uri": "https://localhost:8080/"
        },
        "id": "tJy5OShUfigy",
        "outputId": "f9ef8f27-f079-4e4a-aed6-4189cef34172"
      },
      "execution_count": 45,
      "outputs": [
        {
          "output_type": "execute_result",
          "data": {
            "text/plain": [
              "cnt             0\n",
              "t1              0\n",
              "t2              0\n",
              "hum             0\n",
              "wind_speed      0\n",
              "weather_code    0\n",
              "is_holiday      0\n",
              "is_weekend      0\n",
              "season          0\n",
              "dtype: int64"
            ]
          },
          "metadata": {},
          "execution_count": 45
        }
      ]
    },
    {
      "cell_type": "code",
      "source": [
        "data['hour'] = data.index.hour\n",
        "data['day_of_week'] = data.index.dayofweek\n",
        "data['day_of_month'] = data.index.day\n",
        "data['month'] = data.index.month\n",
        "\n",
        "data.head()"
      ],
      "metadata": {
        "colab": {
          "base_uri": "https://localhost:8080/",
          "height": 237
        },
        "id": "-bidqZvrflYw",
        "outputId": "d50e71e2-d2a6-4d9c-c97c-a72b50e17959"
      },
      "execution_count": 46,
      "outputs": [
        {
          "output_type": "execute_result",
          "data": {
            "text/plain": [
              "                     cnt   t1   t2    hum  wind_speed  weather_code  \\\n",
              "timestamp                                                             \n",
              "2015-01-04 00:00:00  182  3.0  2.0   93.0         6.0           3.0   \n",
              "2015-01-04 01:00:00  138  3.0  2.5   93.0         5.0           1.0   \n",
              "2015-01-04 02:00:00  134  2.5  2.5   96.5         0.0           1.0   \n",
              "2015-01-04 03:00:00   72  2.0  2.0  100.0         0.0           1.0   \n",
              "2015-01-04 04:00:00   47  2.0  0.0   93.0         6.5           1.0   \n",
              "\n",
              "                     is_holiday  is_weekend  season  hour  day_of_week  \\\n",
              "timestamp                                                                \n",
              "2015-01-04 00:00:00         0.0         1.0     3.0     0            6   \n",
              "2015-01-04 01:00:00         0.0         1.0     3.0     1            6   \n",
              "2015-01-04 02:00:00         0.0         1.0     3.0     2            6   \n",
              "2015-01-04 03:00:00         0.0         1.0     3.0     3            6   \n",
              "2015-01-04 04:00:00         0.0         1.0     3.0     4            6   \n",
              "\n",
              "                     day_of_month  month  \n",
              "timestamp                                 \n",
              "2015-01-04 00:00:00             4      1  \n",
              "2015-01-04 01:00:00             4      1  \n",
              "2015-01-04 02:00:00             4      1  \n",
              "2015-01-04 03:00:00             4      1  \n",
              "2015-01-04 04:00:00             4      1  "
            ],
            "text/html": [
              "\n",
              "  <div id=\"df-7ddbd559-7411-4bb4-a8e2-39679252ac2b\">\n",
              "    <div class=\"colab-df-container\">\n",
              "      <div>\n",
              "<style scoped>\n",
              "    .dataframe tbody tr th:only-of-type {\n",
              "        vertical-align: middle;\n",
              "    }\n",
              "\n",
              "    .dataframe tbody tr th {\n",
              "        vertical-align: top;\n",
              "    }\n",
              "\n",
              "    .dataframe thead th {\n",
              "        text-align: right;\n",
              "    }\n",
              "</style>\n",
              "<table border=\"1\" class=\"dataframe\">\n",
              "  <thead>\n",
              "    <tr style=\"text-align: right;\">\n",
              "      <th></th>\n",
              "      <th>cnt</th>\n",
              "      <th>t1</th>\n",
              "      <th>t2</th>\n",
              "      <th>hum</th>\n",
              "      <th>wind_speed</th>\n",
              "      <th>weather_code</th>\n",
              "      <th>is_holiday</th>\n",
              "      <th>is_weekend</th>\n",
              "      <th>season</th>\n",
              "      <th>hour</th>\n",
              "      <th>day_of_week</th>\n",
              "      <th>day_of_month</th>\n",
              "      <th>month</th>\n",
              "    </tr>\n",
              "    <tr>\n",
              "      <th>timestamp</th>\n",
              "      <th></th>\n",
              "      <th></th>\n",
              "      <th></th>\n",
              "      <th></th>\n",
              "      <th></th>\n",
              "      <th></th>\n",
              "      <th></th>\n",
              "      <th></th>\n",
              "      <th></th>\n",
              "      <th></th>\n",
              "      <th></th>\n",
              "      <th></th>\n",
              "      <th></th>\n",
              "    </tr>\n",
              "  </thead>\n",
              "  <tbody>\n",
              "    <tr>\n",
              "      <th>2015-01-04 00:00:00</th>\n",
              "      <td>182</td>\n",
              "      <td>3.0</td>\n",
              "      <td>2.0</td>\n",
              "      <td>93.0</td>\n",
              "      <td>6.0</td>\n",
              "      <td>3.0</td>\n",
              "      <td>0.0</td>\n",
              "      <td>1.0</td>\n",
              "      <td>3.0</td>\n",
              "      <td>0</td>\n",
              "      <td>6</td>\n",
              "      <td>4</td>\n",
              "      <td>1</td>\n",
              "    </tr>\n",
              "    <tr>\n",
              "      <th>2015-01-04 01:00:00</th>\n",
              "      <td>138</td>\n",
              "      <td>3.0</td>\n",
              "      <td>2.5</td>\n",
              "      <td>93.0</td>\n",
              "      <td>5.0</td>\n",
              "      <td>1.0</td>\n",
              "      <td>0.0</td>\n",
              "      <td>1.0</td>\n",
              "      <td>3.0</td>\n",
              "      <td>1</td>\n",
              "      <td>6</td>\n",
              "      <td>4</td>\n",
              "      <td>1</td>\n",
              "    </tr>\n",
              "    <tr>\n",
              "      <th>2015-01-04 02:00:00</th>\n",
              "      <td>134</td>\n",
              "      <td>2.5</td>\n",
              "      <td>2.5</td>\n",
              "      <td>96.5</td>\n",
              "      <td>0.0</td>\n",
              "      <td>1.0</td>\n",
              "      <td>0.0</td>\n",
              "      <td>1.0</td>\n",
              "      <td>3.0</td>\n",
              "      <td>2</td>\n",
              "      <td>6</td>\n",
              "      <td>4</td>\n",
              "      <td>1</td>\n",
              "    </tr>\n",
              "    <tr>\n",
              "      <th>2015-01-04 03:00:00</th>\n",
              "      <td>72</td>\n",
              "      <td>2.0</td>\n",
              "      <td>2.0</td>\n",
              "      <td>100.0</td>\n",
              "      <td>0.0</td>\n",
              "      <td>1.0</td>\n",
              "      <td>0.0</td>\n",
              "      <td>1.0</td>\n",
              "      <td>3.0</td>\n",
              "      <td>3</td>\n",
              "      <td>6</td>\n",
              "      <td>4</td>\n",
              "      <td>1</td>\n",
              "    </tr>\n",
              "    <tr>\n",
              "      <th>2015-01-04 04:00:00</th>\n",
              "      <td>47</td>\n",
              "      <td>2.0</td>\n",
              "      <td>0.0</td>\n",
              "      <td>93.0</td>\n",
              "      <td>6.5</td>\n",
              "      <td>1.0</td>\n",
              "      <td>0.0</td>\n",
              "      <td>1.0</td>\n",
              "      <td>3.0</td>\n",
              "      <td>4</td>\n",
              "      <td>6</td>\n",
              "      <td>4</td>\n",
              "      <td>1</td>\n",
              "    </tr>\n",
              "  </tbody>\n",
              "</table>\n",
              "</div>\n",
              "      <button class=\"colab-df-convert\" onclick=\"convertToInteractive('df-7ddbd559-7411-4bb4-a8e2-39679252ac2b')\"\n",
              "              title=\"Convert this dataframe to an interactive table.\"\n",
              "              style=\"display:none;\">\n",
              "        \n",
              "  <svg xmlns=\"http://www.w3.org/2000/svg\" height=\"24px\"viewBox=\"0 0 24 24\"\n",
              "       width=\"24px\">\n",
              "    <path d=\"M0 0h24v24H0V0z\" fill=\"none\"/>\n",
              "    <path d=\"M18.56 5.44l.94 2.06.94-2.06 2.06-.94-2.06-.94-.94-2.06-.94 2.06-2.06.94zm-11 1L8.5 8.5l.94-2.06 2.06-.94-2.06-.94L8.5 2.5l-.94 2.06-2.06.94zm10 10l.94 2.06.94-2.06 2.06-.94-2.06-.94-.94-2.06-.94 2.06-2.06.94z\"/><path d=\"M17.41 7.96l-1.37-1.37c-.4-.4-.92-.59-1.43-.59-.52 0-1.04.2-1.43.59L10.3 9.45l-7.72 7.72c-.78.78-.78 2.05 0 2.83L4 21.41c.39.39.9.59 1.41.59.51 0 1.02-.2 1.41-.59l7.78-7.78 2.81-2.81c.8-.78.8-2.07 0-2.86zM5.41 20L4 18.59l7.72-7.72 1.47 1.35L5.41 20z\"/>\n",
              "  </svg>\n",
              "      </button>\n",
              "      \n",
              "  <style>\n",
              "    .colab-df-container {\n",
              "      display:flex;\n",
              "      flex-wrap:wrap;\n",
              "      gap: 12px;\n",
              "    }\n",
              "\n",
              "    .colab-df-convert {\n",
              "      background-color: #E8F0FE;\n",
              "      border: none;\n",
              "      border-radius: 50%;\n",
              "      cursor: pointer;\n",
              "      display: none;\n",
              "      fill: #1967D2;\n",
              "      height: 32px;\n",
              "      padding: 0 0 0 0;\n",
              "      width: 32px;\n",
              "    }\n",
              "\n",
              "    .colab-df-convert:hover {\n",
              "      background-color: #E2EBFA;\n",
              "      box-shadow: 0px 1px 2px rgba(60, 64, 67, 0.3), 0px 1px 3px 1px rgba(60, 64, 67, 0.15);\n",
              "      fill: #174EA6;\n",
              "    }\n",
              "\n",
              "    [theme=dark] .colab-df-convert {\n",
              "      background-color: #3B4455;\n",
              "      fill: #D2E3FC;\n",
              "    }\n",
              "\n",
              "    [theme=dark] .colab-df-convert:hover {\n",
              "      background-color: #434B5C;\n",
              "      box-shadow: 0px 1px 3px 1px rgba(0, 0, 0, 0.15);\n",
              "      filter: drop-shadow(0px 1px 2px rgba(0, 0, 0, 0.3));\n",
              "      fill: #FFFFFF;\n",
              "    }\n",
              "  </style>\n",
              "\n",
              "      <script>\n",
              "        const buttonEl =\n",
              "          document.querySelector('#df-7ddbd559-7411-4bb4-a8e2-39679252ac2b button.colab-df-convert');\n",
              "        buttonEl.style.display =\n",
              "          google.colab.kernel.accessAllowed ? 'block' : 'none';\n",
              "\n",
              "        async function convertToInteractive(key) {\n",
              "          const element = document.querySelector('#df-7ddbd559-7411-4bb4-a8e2-39679252ac2b');\n",
              "          const dataTable =\n",
              "            await google.colab.kernel.invokeFunction('convertToInteractive',\n",
              "                                                     [key], {});\n",
              "          if (!dataTable) return;\n",
              "\n",
              "          const docLinkHtml = 'Like what you see? Visit the ' +\n",
              "            '<a target=\"_blank\" href=https://colab.research.google.com/notebooks/data_table.ipynb>data table notebook</a>'\n",
              "            + ' to learn more about interactive tables.';\n",
              "          element.innerHTML = '';\n",
              "          dataTable['output_type'] = 'display_data';\n",
              "          await google.colab.output.renderOutput(dataTable, element);\n",
              "          const docLink = document.createElement('div');\n",
              "          docLink.innerHTML = docLinkHtml;\n",
              "          element.appendChild(docLink);\n",
              "        }\n",
              "      </script>\n",
              "    </div>\n",
              "  </div>\n",
              "  "
            ]
          },
          "metadata": {},
          "execution_count": 46
        }
      ]
    },
    {
      "cell_type": "markdown",
      "source": [
        "**Explorasi Data**"
      ],
      "metadata": {
        "id": "qQ_ss9G5rOX9"
      }
    },
    {
      "cell_type": "code",
      "source": [
        "import matplotlib.pyplot as plt\n",
        "\n",
        "data_by_month = data.resample('M').sum()\n",
        "\n",
        "time = data_by_month.index.values\n",
        "test = data_by_month['cnt'].values\n",
        "\n",
        "plt.figure(figsize=(15,5))\n",
        "plt.plot(time, test)"
      ],
      "metadata": {
        "colab": {
          "base_uri": "https://localhost:8080/",
          "height": 348
        },
        "id": "f3L55ZnofoGq",
        "outputId": "064f9f88-5600-48ad-c4e5-070a9a3717f3"
      },
      "execution_count": 47,
      "outputs": [
        {
          "output_type": "execute_result",
          "data": {
            "text/plain": [
              "[<matplotlib.lines.Line2D at 0x7f07b7e79550>]"
            ]
          },
          "metadata": {},
          "execution_count": 47
        },
        {
          "output_type": "display_data",
          "data": {
            "text/plain": [
              "<Figure size 1080x360 with 1 Axes>"
            ],
            "image/png": "[encoded data removed]"
          },
          "metadata": {
            "needs_background": "light"
          }
        }
      ]
    },
    {
      "cell_type": "markdown",
      "source": [
        "**Data Training dan Testing**"
      ],
      "metadata": {
        "id": "bnuM8X5erfc5"
      }
    },
    {
      "cell_type": "code",
      "source": [
        "from sklearn.model_selection import train_test_split\n",
        "import numpy as np\n",
        "\n",
        "train_size = int(len(data) * 0.8) # bobot 80%\n",
        "train, test = data.iloc[0:train_size], data.iloc[train_size:len(data)]\n",
        "\n",
        "print(train.shape, test.shape)"
      ],
      "metadata": {
        "colab": {
          "base_uri": "https://localhost:8080/"
        },
        "id": "55oHVBR_f8Dp",
        "outputId": "28a945db-f201-415c-e490-a41af6a4d74d"
      },
      "execution_count": 48,
      "outputs": [
        {
          "output_type": "stream",
          "name": "stdout",
          "text": [
            "(13931, 13) (3483, 13)\n"
          ]
        }
      ]
    },
    {
      "cell_type": "code",
      "source": [
        "from sklearn.preprocessing import RobustScaler\n",
        "\n",
        "transformer = RobustScaler()\n",
        "cnt_transformer = transformer.fit(train[['cnt']])\n",
        "\n",
        "train['cnt'] = cnt_transformer.transform(train[['cnt']])\n",
        "\n",
        "test['cnt'] = cnt_transformer.transform(test[['cnt']])"
      ],
      "metadata": {
        "id": "Vx_hMP7ggFvO"
      },
      "execution_count": null,
      "outputs": []
    },
    {
      "cell_type": "code",
      "source": [
        "scale_col = ['t1', 't2', 'hum', 'wind_speed']\n",
        "scale_transformer = transformer.fit(train[scale_col].to_numpy())\n",
        "\n",
        "train.loc[:, scale_col] = scale_transformer.transform(\n",
        "    train[scale_col].to_numpy()\n",
        ")\n",
        "\n",
        "test.loc[:, scale_col] = scale_transformer.transform(\n",
        "    test[scale_col].to_numpy()\n",
        ")"
      ],
      "metadata": {
        "id": "gOJYQwbygN1N"
      },
      "execution_count": null,
      "outputs": []
    },
    {
      "cell_type": "code",
      "source": [
        "\n",
        "import numpy as np\n",
        "import tensorflow as tf\n",
        "\n",
        "def split_data(x, y, time_steps=1):\n",
        "    xs, ys = [], []\n",
        "    for i in range(len(x) - time_steps):\n",
        "        v = x.iloc[i:(i + time_steps)].values\n",
        "        xs.append(v)\n",
        "        ys.append(y.iloc[i + time_steps])\n",
        "    return np.array(xs), np.array(ys)\n",
        "\n",
        "x_train, y_train = split_data(train, train.cnt, 10)\n",
        "x_test, y_test = split_data(test, test.cnt, 10)"
      ],
      "metadata": {
        "id": "V-oc-xlBgTKY"
      },
      "execution_count": 51,
      "outputs": []
    },
    {
      "cell_type": "code",
      "source": [
        "print(x_train.shape, y_train.shape)"
      ],
      "metadata": {
        "colab": {
          "base_uri": "https://localhost:8080/"
        },
        "id": "1413xtX5tkL1",
        "outputId": "01857693-57be-453f-ff0e-b9069669ab6e"
      },
      "execution_count": 52,
      "outputs": [
        {
          "output_type": "stream",
          "name": "stdout",
          "text": [
            "(13921, 10, 13) (13921,)\n"
          ]
        }
      ]
    },
    {
      "cell_type": "markdown",
      "source": [
        "**Pemodelan**"
      ],
      "metadata": {
        "id": "78uDPddvr4LV"
      }
    },
    {
      "cell_type": "code",
      "source": [
        "import tensorflow as tf\n",
        "\n",
        "model = tf.keras.models.Sequential([\n",
        "    tf.keras.layers.LSTM(128,return_sequences=True),\n",
        "    tf.keras.layers.LSTM(128),\n",
        "    tf.keras.layers.Dropout(rate=0.2),\n",
        "    tf.keras.layers.Dense(30, activation=\"relu\"),\n",
        "    tf.keras.layers.Dense(30, activation=\"relu\"),\n",
        "    tf.keras.layers.Dense(1)\n",
        "])\n",
        "\n",
        "model.compile(loss = tf.keras.losses.Huber(),\n",
        "              optimizer = tf.keras.optimizers.Adam(lr=0.01),\n",
        "              metrics = [\"mae\"])"
      ],
      "metadata": {
        "id": "SUZDCc7NltI9"
      },
      "execution_count": null,
      "outputs": []
    },
    {
      "cell_type": "markdown",
      "source": [
        "**Latih Model (cek MAE)**\n",
        "\n",
        "memastikan MAE dari model < 10% skala data."
      ],
      "metadata": {
        "id": "bVDIE-FWsEmq"
      }
    },
    {
      "cell_type": "code",
      "source": [
        "class my_allback(tf.keras.callbacks.Callback):\n",
        "    def on_epoch_end(self, epoch, logs={}):\n",
        "        if(logs.get('mae') < 0.1):\n",
        "            print(\"MAE dibawah 10%\")\n",
        "\n",
        "    def on_train_end(self, epoch, logs={}):\n",
        "        print('Done')\n",
        "\n",
        "callbacks = my_allback()"
      ],
      "metadata": {
        "id": "c4XNlHoulnzz"
      },
      "execution_count": 59,
      "outputs": []
    },
    {
      "cell_type": "code",
      "source": [
        "history = model.fit(x_train,\n",
        "                    y_train,\n",
        "                    epochs=50,\n",
        "                    batch_size=32,\n",
        "                    validation_split=0.2,\n",
        "                    callbacks = callbacks,\n",
        "                    shuffle=False)"
      ],
      "metadata": {
        "colab": {
          "base_uri": "https://localhost:8080/"
        },
        "id": "lbp6bb9Ll6qT",
        "outputId": "ec10c164-be67-47f4-cff2-8d986b2100ed"
      },
      "execution_count": 60,
      "outputs": [
        {
          "output_type": "stream",
          "name": "stdout",
          "text": [
            "Epoch 1/50\n",
            "348/348 [==============================] - 15s 32ms/step - loss: 0.0860 - mae: 0.2797 - val_loss: 0.0319 - val_mae: 0.1635\n",
            "Epoch 2/50\n",
            "348/348 [==============================] - 10s 29ms/step - loss: 0.0199 - mae: 0.1352 - val_loss: 0.0351 - val_mae: 0.1643\n",
            "Epoch 3/50\n",
            "348/348 [==============================] - 10s 28ms/step - loss: 0.0188 - mae: 0.1275 - val_loss: 0.0265 - val_mae: 0.1462\n",
            "Epoch 4/50\n",
            "348/348 [==============================] - 10s 29ms/step - loss: 0.0162 - mae: 0.1196 - val_loss: 0.0248 - val_mae: 0.1436\n",
            "Epoch 5/50\n",
            "348/348 [==============================] - 10s 28ms/step - loss: 0.0140 - mae: 0.1112 - val_loss: 0.0214 - val_mae: 0.1405\n",
            "Epoch 6/50\n",
            "348/348 [==============================] - 11s 30ms/step - loss: 0.0151 - mae: 0.1174 - val_loss: 0.0212 - val_mae: 0.1400\n",
            "Epoch 7/50\n",
            "348/348 [==============================] - 10s 28ms/step - loss: 0.0138 - mae: 0.1095 - val_loss: 0.0244 - val_mae: 0.1498\n",
            "Epoch 8/50\n",
            "348/348 [==============================] - 10s 28ms/step - loss: 0.0146 - mae: 0.1127 - val_loss: 0.0282 - val_mae: 0.1624\n",
            "Epoch 9/50\n",
            "348/348 [==============================] - 10s 28ms/step - loss: 0.0133 - mae: 0.1087 - val_loss: 0.0205 - val_mae: 0.1442\n",
            "Epoch 10/50\n",
            "348/348 [==============================] - 10s 29ms/step - loss: 0.0143 - mae: 0.1107 - val_loss: 0.0228 - val_mae: 0.1413\n",
            "Epoch 11/50\n",
            "348/348 [==============================] - 10s 28ms/step - loss: 0.0118 - mae: 0.1002 - val_loss: 0.0210 - val_mae: 0.1303\n",
            "Epoch 12/50\n",
            "348/348 [==============================] - 10s 29ms/step - loss: 0.0120 - mae: 0.1017 - val_loss: 0.0180 - val_mae: 0.1232\n",
            "Epoch 13/50\n",
            "348/348 [==============================] - 10s 29ms/step - loss: 0.0115 - mae: 0.1003 - val_loss: 0.0186 - val_mae: 0.1281\n",
            "Epoch 14/50\n",
            "348/348 [==============================] - 11s 32ms/step - loss: 0.0115 - mae: 0.1005 - val_loss: 0.0211 - val_mae: 0.1330\n",
            "Epoch 15/50\n",
            "348/348 [==============================] - 10s 28ms/step - loss: 0.0146 - mae: 0.1138 - val_loss: 0.0283 - val_mae: 0.1539\n",
            "Epoch 16/50\n",
            "348/348 [==============================] - 10s 29ms/step - loss: 0.0132 - mae: 0.1070 - val_loss: 0.0215 - val_mae: 0.1330\n",
            "Epoch 17/50\n",
            "348/348 [==============================] - 10s 29ms/step - loss: 0.0120 - mae: 0.1016 - val_loss: 0.0203 - val_mae: 0.1302\n",
            "Epoch 18/50\n",
            "347/348 [============================>.] - ETA: 0s - loss: 0.0112 - mae: 0.0998MAE dibawah 10%\n",
            "348/348 [==============================] - 10s 29ms/step - loss: 0.0112 - mae: 0.0997 - val_loss: 0.0263 - val_mae: 0.1492\n",
            "Epoch 19/50\n",
            "347/348 [============================>.] - ETA: 0s - loss: 0.0113 - mae: 0.0993MAE dibawah 10%\n",
            "348/348 [==============================] - 10s 29ms/step - loss: 0.0112 - mae: 0.0992 - val_loss: 0.0238 - val_mae: 0.1374\n",
            "Epoch 20/50\n",
            "347/348 [============================>.] - ETA: 0s - loss: 0.0094 - mae: 0.0909MAE dibawah 10%\n",
            "348/348 [==============================] - 10s 29ms/step - loss: 0.0094 - mae: 0.0910 - val_loss: 0.0195 - val_mae: 0.1262\n",
            "Epoch 21/50\n",
            "348/348 [==============================] - ETA: 0s - loss: 0.0101 - mae: 0.0948MAE dibawah 10%\n",
            "348/348 [==============================] - 10s 29ms/step - loss: 0.0101 - mae: 0.0948 - val_loss: 0.0210 - val_mae: 0.1398\n",
            "Epoch 22/50\n",
            "347/348 [============================>.] - ETA: 0s - loss: 0.0099 - mae: 0.0935MAE dibawah 10%\n",
            "348/348 [==============================] - 10s 30ms/step - loss: 0.0099 - mae: 0.0935 - val_loss: 0.0204 - val_mae: 0.1313\n",
            "Epoch 23/50\n",
            "348/348 [==============================] - 10s 30ms/step - loss: 0.0111 - mae: 0.1018 - val_loss: 0.0207 - val_mae: 0.1414\n",
            "Epoch 24/50\n",
            "348/348 [==============================] - 10s 29ms/step - loss: 0.0136 - mae: 0.1112 - val_loss: 0.0267 - val_mae: 0.1567\n",
            "Epoch 25/50\n",
            "347/348 [============================>.] - ETA: 0s - loss: 0.0105 - mae: 0.0960MAE dibawah 10%\n",
            "348/348 [==============================] - 10s 29ms/step - loss: 0.0105 - mae: 0.0961 - val_loss: 0.0270 - val_mae: 0.1535\n",
            "Epoch 26/50\n",
            "348/348 [==============================] - 10s 29ms/step - loss: 0.0116 - mae: 0.1025 - val_loss: 0.0244 - val_mae: 0.1478\n",
            "Epoch 27/50\n",
            "347/348 [============================>.] - ETA: 0s - loss: 0.0107 - mae: 0.0993MAE dibawah 10%\n",
            "348/348 [==============================] - 10s 29ms/step - loss: 0.0107 - mae: 0.0993 - val_loss: 0.0316 - val_mae: 0.1775\n",
            "Epoch 28/50\n",
            "347/348 [============================>.] - ETA: 0s - loss: 0.0102 - mae: 0.0956MAE dibawah 10%\n",
            "348/348 [==============================] - 10s 29ms/step - loss: 0.0101 - mae: 0.0955 - val_loss: 0.0307 - val_mae: 0.1674\n",
            "Epoch 29/50\n",
            "348/348 [==============================] - ETA: 0s - loss: 0.0103 - mae: 0.0966MAE dibawah 10%\n",
            "348/348 [==============================] - 10s 29ms/step - loss: 0.0103 - mae: 0.0966 - val_loss: 0.0308 - val_mae: 0.1692\n",
            "Epoch 30/50\n",
            "347/348 [============================>.] - ETA: 0s - loss: 0.0099 - mae: 0.0929MAE dibawah 10%\n",
            "348/348 [==============================] - 10s 29ms/step - loss: 0.0099 - mae: 0.0929 - val_loss: 0.0273 - val_mae: 0.1531\n",
            "Epoch 31/50\n",
            "347/348 [============================>.] - ETA: 0s - loss: 0.0089 - mae: 0.0877MAE dibawah 10%\n",
            "348/348 [==============================] - 10s 29ms/step - loss: 0.0089 - mae: 0.0877 - val_loss: 0.0276 - val_mae: 0.1516\n",
            "Epoch 32/50\n",
            "348/348 [==============================] - ETA: 0s - loss: 0.0085 - mae: 0.0866MAE dibawah 10%\n",
            "348/348 [==============================] - 10s 29ms/step - loss: 0.0085 - mae: 0.0866 - val_loss: 0.0267 - val_mae: 0.1545\n",
            "Epoch 33/50\n",
            "348/348 [==============================] - ETA: 0s - loss: 0.0104 - mae: 0.0963MAE dibawah 10%\n",
            "348/348 [==============================] - 10s 29ms/step - loss: 0.0104 - mae: 0.0963 - val_loss: 0.0261 - val_mae: 0.1588\n",
            "Epoch 34/50\n",
            "348/348 [==============================] - ETA: 0s - loss: 0.0090 - mae: 0.0904MAE dibawah 10%\n",
            "348/348 [==============================] - 10s 29ms/step - loss: 0.0090 - mae: 0.0904 - val_loss: 0.0250 - val_mae: 0.1549\n",
            "Epoch 35/50\n",
            "347/348 [============================>.] - ETA: 0s - loss: 0.0091 - mae: 0.0897MAE dibawah 10%\n",
            "348/348 [==============================] - 10s 30ms/step - loss: 0.0091 - mae: 0.0898 - val_loss: 0.0290 - val_mae: 0.1698\n",
            "Epoch 36/50\n",
            "347/348 [============================>.] - ETA: 0s - loss: 0.0083 - mae: 0.0873MAE dibawah 10%\n",
            "348/348 [==============================] - 10s 29ms/step - loss: 0.0083 - mae: 0.0874 - val_loss: 0.0257 - val_mae: 0.1520\n",
            "Epoch 37/50\n",
            "348/348 [==============================] - ETA: 0s - loss: 0.0086 - mae: 0.0881MAE dibawah 10%\n",
            "348/348 [==============================] - 10s 29ms/step - loss: 0.0086 - mae: 0.0881 - val_loss: 0.0266 - val_mae: 0.1549\n",
            "Epoch 38/50\n",
            "347/348 [============================>.] - ETA: 0s - loss: 0.0088 - mae: 0.0868MAE dibawah 10%\n",
            "348/348 [==============================] - 10s 29ms/step - loss: 0.0088 - mae: 0.0868 - val_loss: 0.0274 - val_mae: 0.1587\n",
            "Epoch 39/50\n",
            "347/348 [============================>.] - ETA: 0s - loss: 0.0087 - mae: 0.0862MAE dibawah 10%\n",
            "348/348 [==============================] - 10s 29ms/step - loss: 0.0087 - mae: 0.0863 - val_loss: 0.0240 - val_mae: 0.1476\n",
            "Epoch 40/50\n",
            "347/348 [============================>.] - ETA: 0s - loss: 0.0079 - mae: 0.0837MAE dibawah 10%\n",
            "348/348 [==============================] - 11s 32ms/step - loss: 0.0079 - mae: 0.0838 - val_loss: 0.0252 - val_mae: 0.1369\n",
            "Epoch 41/50\n",
            "348/348 [==============================] - ETA: 0s - loss: 0.0079 - mae: 0.0836MAE dibawah 10%\n",
            "348/348 [==============================] - 10s 29ms/step - loss: 0.0079 - mae: 0.0836 - val_loss: 0.0247 - val_mae: 0.1445\n",
            "Epoch 42/50\n",
            "348/348 [==============================] - ETA: 0s - loss: 0.0105 - mae: 0.0964MAE dibawah 10%\n",
            "348/348 [==============================] - 10s 29ms/step - loss: 0.0105 - mae: 0.0964 - val_loss: 0.0282 - val_mae: 0.1603\n",
            "Epoch 43/50\n",
            "348/348 [==============================] - ETA: 0s - loss: 0.0101 - mae: 0.0969MAE dibawah 10%\n",
            "348/348 [==============================] - 10s 29ms/step - loss: 0.0101 - mae: 0.0969 - val_loss: 0.0261 - val_mae: 0.1515\n",
            "Epoch 44/50\n",
            "348/348 [==============================] - ETA: 0s - loss: 0.0091 - mae: 0.0882MAE dibawah 10%\n",
            "348/348 [==============================] - 10s 29ms/step - loss: 0.0091 - mae: 0.0882 - val_loss: 0.0311 - val_mae: 0.1574\n",
            "Epoch 45/50\n",
            "348/348 [==============================] - ETA: 0s - loss: 0.0105 - mae: 0.0962MAE dibawah 10%\n",
            "348/348 [==============================] - 10s 29ms/step - loss: 0.0105 - mae: 0.0962 - val_loss: 0.0298 - val_mae: 0.1772\n",
            "Epoch 46/50\n",
            "347/348 [============================>.] - ETA: 0s - loss: 0.0092 - mae: 0.0903MAE dibawah 10%\n",
            "348/348 [==============================] - 11s 31ms/step - loss: 0.0092 - mae: 0.0904 - val_loss: 0.0340 - val_mae: 0.1818\n",
            "Epoch 47/50\n",
            "347/348 [============================>.] - ETA: 0s - loss: 0.0090 - mae: 0.0883MAE dibawah 10%\n",
            "348/348 [==============================] - 10s 29ms/step - loss: 0.0090 - mae: 0.0883 - val_loss: 0.0285 - val_mae: 0.1569\n",
            "Epoch 48/50\n",
            "347/348 [============================>.] - ETA: 0s - loss: 0.0103 - mae: 0.0960MAE dibawah 10%\n",
            "348/348 [==============================] - 10s 29ms/step - loss: 0.0103 - mae: 0.0959 - val_loss: 0.0264 - val_mae: 0.1505\n",
            "Epoch 49/50\n",
            "347/348 [============================>.] - ETA: 0s - loss: 0.0092 - mae: 0.0911MAE dibawah 10%\n",
            "348/348 [==============================] - 10s 29ms/step - loss: 0.0092 - mae: 0.0911 - val_loss: 0.0262 - val_mae: 0.1527\n",
            "Epoch 50/50\n",
            "348/348 [==============================] - ETA: 0s - loss: 0.0084 - mae: 0.0874MAE dibawah 10%\n",
            "348/348 [==============================] - 10s 29ms/step - loss: 0.0084 - mae: 0.0874 - val_loss: 0.0221 - val_mae: 0.1386\n",
            "Done\n"
          ]
        }
      ]
    },
    {
      "cell_type": "markdown",
      "source": [
        "**Evaluasi**"
      ],
      "metadata": {
        "id": "DcMD_nf4sR-F"
      }
    },
    {
      "cell_type": "code",
      "source": [
        "history.history.keys()"
      ],
      "metadata": {
        "colab": {
          "base_uri": "https://localhost:8080/"
        },
        "id": "AlYepaeio--7",
        "outputId": "d5d21772-d11b-4d49-8755-c3925095ea84"
      },
      "execution_count": 63,
      "outputs": [
        {
          "output_type": "execute_result",
          "data": {
            "text/plain": [
              "dict_keys(['loss', 'mae', 'val_loss', 'val_mae'])"
            ]
          },
          "metadata": {},
          "execution_count": 63
        }
      ]
    },
    {
      "cell_type": "code",
      "source": [
        "plt.figure(figsize=[10,6])\n",
        "plt.plot(history.history['mae'], label='MAE')\n",
        "plt.plot(history.history['val_mae'], label='val MAE')\n",
        "plt.legend()\n",
        "plt.show()"
      ],
      "metadata": {
        "colab": {
          "base_uri": "https://localhost:8080/",
          "height": 374
        },
        "id": "R7_edd0kxtqT",
        "outputId": "da5f7523-3fd5-4798-a1ba-521326be3fe0"
      },
      "execution_count": 65,
      "outputs": [
        {
          "output_type": "display_data",
          "data": {
            "text/plain": [
              "<Figure size 720x432 with 1 Axes>"
            ],
            "image/png": "[encoded data removed]"
          },
          "metadata": {
            "needs_background": "light"
          }
        }
      ]
    }
  ]
}